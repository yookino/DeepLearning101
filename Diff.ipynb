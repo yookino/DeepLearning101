{
 "cells": [
  {
   "cell_type": "code",
   "execution_count": 1,
   "metadata": {},
   "outputs": [],
   "source": [
    "import numpy as np"
   ]
  },
  {
   "cell_type": "code",
   "execution_count": 68,
   "metadata": {},
   "outputs": [],
   "source": [
    "class tensor:\n",
    "    adj = []\n",
    "    total_id = 0\n",
    "    \n",
    "    def __init__(self, data):\n",
    "        _dict = {}\n",
    "        _dict['id'] = tensor.total_id\n",
    "        _dict['data'] = data\n",
    "        _dict['created_from'] = 'assigned'\n",
    "        _dict['send_to'] = []\n",
    "        _dict['diff'] = []\n",
    "        _dict['destination'] = 'wait'\n",
    "        tensor.adj.append(_dict)\n",
    "        self.id = tensor.total_id\n",
    "        tensor.total_id = tensor.total_id + 1\n",
    "        self.data = data\n",
    "    \n",
    "    @classmethod\n",
    "    def clear_adj(self):\n",
    "        tensor.adj = []\n",
    "        tensor.total_id = 0\n",
    "        \n",
    "    def update_so(self, self_id, other_id, new_var_id, operation):\n",
    "        tensor.adj[self_id]['send_to'].append(new_var_id)\n",
    "        tensor.adj[other_id]['send_to'].append(new_var_id)\n",
    "        tensor.adj[new_var_id]['created_from'] = operation\n",
    "        \n",
    "    def update_s(self, self_id, new_var_id, operation):\n",
    "        tensor.adj[self_id]['send_to'].append(new_var_id)\n",
    "        tensor.adj[new_var_id]['created_from'] = operation\n",
    "    \n",
    "    def __add__(self, other):\n",
    "        print('__add__', self.data, other.data)\n",
    "        self.data = self.data + other.data\n",
    "        return self\n",
    "    \n",
    "    def __radd__(self, other):\n",
    "        print('__radd__', self.data, other.data)\n",
    "        return self\n",
    "    \n",
    "    def __sub__(self, other):\n",
    "        print('__sub__', self.data, other.data)\n",
    "        self.data = self.data - other.data\n",
    "        return self\n",
    "    \n",
    "    def __rsub__(self, other):\n",
    "        print('__rsub__', self.data, other.data)\n",
    "        return self\n",
    "    \n",
    "    def __mul__(self, other):\n",
    "        print('__mul__', self.data, other.data)\n",
    "        self.data = self.data * other.data\n",
    "        return self\n",
    "    \n",
    "    def __rmul__(self, other):\n",
    "        print('__rmul__', self.data, other.data)\n",
    "        return self\n",
    "    \n",
    "    def __truediv__(self, other):\n",
    "        print('__truediv__', self.data, other.data)\n",
    "        self.data = self.data / other.data\n",
    "        return self\n",
    "    \n",
    "    def __rtruediv__(self, other):\n",
    "        print('__rtruediv__', self.data, other.data)\n",
    "        return self\n",
    "    \n",
    "    def __pow__(self, other):\n",
    "        print(isinstance(other, tensor))\n",
    "        if isinstance(other, tensor):\n",
    "            print('__pow__', self.data, other.data)\n",
    "        else:\n",
    "            print('__pow__', self.data, other)\n",
    "        return self\n",
    "    \n",
    "    def __rpow__(self, other):\n",
    "        print('__rpow__', self.data, other.data)\n",
    "        return self\n",
    "    \n",
    "    def __abs__(self):\n",
    "        print('__abs__', self.data, other.data)\n",
    "        return self\n",
    "    \n",
    "    def __neg__(self):\n",
    "        print('__neg__', self.data, other.data)\n",
    "        return self\n",
    "    \n",
    "    def log(self):\n",
    "        print('log', self.data, other.data)\n",
    "        return self\n",
    "        \n",
    "    def sin(self):\n",
    "        print('sin', self.data, other.data)\n",
    "        return self\n",
    "    \n",
    "    def cos(self):\n",
    "        print('cos', self.data, other.data)\n",
    "        return self\n",
    "    \n",
    "    def backward_with_id(self, component_id, destination_id):\n",
    "        print('backward_with_id', self.data, other.data)\n",
    "        return self\n",
    "    \n",
    "    def backward(self):\n",
    "        print('backward', self.data, other.data)\n",
    "        return self\n",
    "                \n",
    "    def grad_with_id(self, next_node_id, destination_id):\n",
    "        print('grad_with_id', self.data, other.data)\n",
    "        return self\n",
    "                        \n",
    "    def grad(self):\n",
    "        print('grad', self.data, other.data)\n",
    "        return self"
   ]
  },
  {
   "cell_type": "code",
   "execution_count": 69,
   "metadata": {},
   "outputs": [],
   "source": [
    "a1 = tensor(1)\n",
    "a2 = tensor(2)\n",
    "a3 = tensor(3)\n",
    "a4 = tensor(4)\n",
    "a5 = tensor(5)\n",
    "a6 = tensor(6)\n",
    "a7 = tensor(7)\n",
    "a8 = tensor(8)"
   ]
  },
  {
   "cell_type": "code",
   "execution_count": 70,
   "metadata": {},
   "outputs": [
    {
     "name": "stdout",
     "output_type": "stream",
     "text": [
      "False\n",
      "__pow__ 1 3\n"
     ]
    },
    {
     "data": {
      "text/plain": [
       "<__main__.tensor at 0x115336550>"
      ]
     },
     "execution_count": 70,
     "metadata": {},
     "output_type": "execute_result"
    }
   ],
   "source": [
    "a1 ** 3"
   ]
  },
  {
   "cell_type": "code",
   "execution_count": null,
   "metadata": {},
   "outputs": [],
   "source": []
  },
  {
   "cell_type": "code",
   "execution_count": null,
   "metadata": {},
   "outputs": [],
   "source": []
  }
 ],
 "metadata": {
  "kernelspec": {
   "display_name": "Python 3",
   "language": "python",
   "name": "python3"
  },
  "language_info": {
   "codemirror_mode": {
    "name": "ipython",
    "version": 3
   },
   "file_extension": ".py",
   "mimetype": "text/x-python",
   "name": "python",
   "nbconvert_exporter": "python",
   "pygments_lexer": "ipython3",
   "version": "3.7.4"
  }
 },
 "nbformat": 4,
 "nbformat_minor": 2
}
