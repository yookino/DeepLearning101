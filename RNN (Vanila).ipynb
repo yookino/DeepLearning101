{
 "cells": [
  {
   "cell_type": "code",
   "execution_count": 2,
   "metadata": {},
   "outputs": [],
   "source": [
    "import numpy as np"
   ]
  },
  {
   "cell_type": "code",
   "execution_count": 15,
   "metadata": {},
   "outputs": [],
   "source": [
    "def tanh(x):\n",
    "    return (np.exp(x) - np.exp(-x))/(np.exp(x) + np.exp(-x))"
   ]
  },
  {
   "cell_type": "code",
   "execution_count": 52,
   "metadata": {},
   "outputs": [],
   "source": [
    "def relu(x):\n",
    "    return np.maximum(0,x)"
   ]
  },
  {
   "cell_type": "code",
   "execution_count": 3,
   "metadata": {},
   "outputs": [],
   "source": [
    "x_ts_1 = np.array([[1.135,1.132]\n",
    "                  ,[1.137,1.132]\n",
    "                  ,[1.137,1.132]\n",
    "                  ,[1.136,1.128]])"
   ]
  },
  {
   "cell_type": "code",
   "execution_count": 4,
   "metadata": {},
   "outputs": [],
   "source": [
    "x_ts_2 = np.array([[1.138,1.133]\n",
    "                  ,[1.136,1.132]\n",
    "                  ,[1.137,1.132]\n",
    "                  ,[1.137,1.132]])"
   ]
  },
  {
   "cell_type": "code",
   "execution_count": 5,
   "metadata": {},
   "outputs": [],
   "source": [
    "x_ts_3 = np.array([[1.14,1.135]\n",
    "                  ,[1.137,1.133]\n",
    "                  ,[1.136,1.132]\n",
    "                  ,[1.137,1.132]])"
   ]
  },
  {
   "cell_type": "code",
   "execution_count": 6,
   "metadata": {},
   "outputs": [],
   "source": [
    "ws = np.array([[0.36,0.81,-1.31]\n",
    "              ,[-0.29,2.38,0.06]])"
   ]
  },
  {
   "cell_type": "code",
   "execution_count": 7,
   "metadata": {},
   "outputs": [],
   "source": [
    "us = np.array([[0.25,0.87,-0.53]\n",
    "              ,[0.27,-0.07,-1.34]\n",
    "              ,[-0.58,0.2,0.19]])"
   ]
  },
  {
   "cell_type": "code",
   "execution_count": 8,
   "metadata": {},
   "outputs": [],
   "source": [
    "bs = np.array([[1.06,-1.27,0.23]])"
   ]
  },
  {
   "cell_type": "code",
   "execution_count": 18,
   "metadata": {},
   "outputs": [
    {
     "data": {
      "text/plain": [
       "array([[ 0.08032,  3.61351, -1.41893],\n",
       "       [ 0.08104,  3.61513, -1.42155],\n",
       "       [ 0.08104,  3.61513, -1.42155],\n",
       "       [ 0.08184,  3.6048 , -1.42048]])"
      ]
     },
     "execution_count": 18,
     "metadata": {},
     "output_type": "execute_result"
    }
   ],
   "source": [
    "x_ts_1.dot(ws)"
   ]
  },
  {
   "cell_type": "code",
   "execution_count": 19,
   "metadata": {},
   "outputs": [],
   "source": [
    "s1_ts_1 = x_ts_1.dot(ws) + bs"
   ]
  },
  {
   "cell_type": "code",
   "execution_count": 20,
   "metadata": {},
   "outputs": [
    {
     "data": {
      "text/plain": [
       "array([[ 1.14032,  2.34351, -1.18893],\n",
       "       [ 1.14104,  2.34513, -1.19155],\n",
       "       [ 1.14104,  2.34513, -1.19155],\n",
       "       [ 1.14184,  2.3348 , -1.19048]])"
      ]
     },
     "execution_count": 20,
     "metadata": {},
     "output_type": "execute_result"
    }
   ],
   "source": [
    "s1_ts_1 "
   ]
  },
  {
   "cell_type": "code",
   "execution_count": 21,
   "metadata": {},
   "outputs": [],
   "source": [
    "h1_ts_1 = tanh(s1_ts_1)"
   ]
  },
  {
   "cell_type": "code",
   "execution_count": 22,
   "metadata": {},
   "outputs": [
    {
     "data": {
      "text/plain": [
       "array([[ 0.81452182,  0.98174004, -0.83024673],\n",
       "       [ 0.814764  ,  0.98179857, -0.83105897],\n",
       "       [ 0.814764  ,  0.98179857, -0.83105897],\n",
       "       [ 0.81503275,  0.98142215, -0.83072768]])"
      ]
     },
     "execution_count": 22,
     "metadata": {},
     "output_type": "execute_result"
    }
   ],
   "source": [
    "h1_ts_1"
   ]
  },
  {
   "cell_type": "code",
   "execution_count": 23,
   "metadata": {},
   "outputs": [
    {
     "data": {
      "text/plain": [
       "array([[ 0.08111,  3.61832, -1.4228 ],\n",
       "       [ 0.08068,  3.61432, -1.42024],\n",
       "       [ 0.08104,  3.61513, -1.42155],\n",
       "       [ 0.08104,  3.61513, -1.42155]])"
      ]
     },
     "execution_count": 23,
     "metadata": {},
     "output_type": "execute_result"
    }
   ],
   "source": [
    "x_ts_2.dot(ws)"
   ]
  },
  {
   "cell_type": "code",
   "execution_count": 24,
   "metadata": {},
   "outputs": [
    {
     "data": {
      "text/plain": [
       "array([[ 0.95024337,  0.47386283, -1.9049751 ],\n",
       "       [ 0.95079081,  0.47390698, -1.90533621],\n",
       "       [ 0.95079081,  0.47390698, -1.90533621],\n",
       "       [ 0.95056422,  0.47423341, -1.90491129]])"
      ]
     },
     "execution_count": 24,
     "metadata": {},
     "output_type": "execute_result"
    }
   ],
   "source": [
    "h1_ts_1.dot(us)"
   ]
  },
  {
   "cell_type": "code",
   "execution_count": 25,
   "metadata": {},
   "outputs": [
    {
     "data": {
      "text/plain": [
       "array([[ 1.06, -1.27,  0.23]])"
      ]
     },
     "execution_count": 25,
     "metadata": {},
     "output_type": "execute_result"
    }
   ],
   "source": [
    "bs"
   ]
  },
  {
   "cell_type": "code",
   "execution_count": 26,
   "metadata": {},
   "outputs": [],
   "source": [
    "s1_ts_2 = x_ts_2.dot(ws) + h1_ts_1.dot(us) + bs"
   ]
  },
  {
   "cell_type": "code",
   "execution_count": 27,
   "metadata": {},
   "outputs": [
    {
     "data": {
      "text/plain": [
       "array([[ 2.09135337,  2.82218283, -3.0977751 ],\n",
       "       [ 2.09147081,  2.81822698, -3.09557621],\n",
       "       [ 2.09183081,  2.81903698, -3.09688621],\n",
       "       [ 2.09160422,  2.81936341, -3.09646129]])"
      ]
     },
     "execution_count": 27,
     "metadata": {},
     "output_type": "execute_result"
    }
   ],
   "source": [
    "s1_ts_2"
   ]
  },
  {
   "cell_type": "code",
   "execution_count": 28,
   "metadata": {},
   "outputs": [
    {
     "data": {
      "text/plain": [
       "array([[ 1.03135337,  4.09218283, -3.3277751 ],\n",
       "       [ 1.03147081,  4.08822698, -3.32557621],\n",
       "       [ 1.03183081,  4.08903698, -3.32688621],\n",
       "       [ 1.03160422,  4.08936341, -3.32646129]])"
      ]
     },
     "execution_count": 28,
     "metadata": {},
     "output_type": "execute_result"
    }
   ],
   "source": [
    "x_ts_2.dot(ws) + h1_ts_1.dot(us)"
   ]
  },
  {
   "cell_type": "code",
   "execution_count": 29,
   "metadata": {},
   "outputs": [],
   "source": [
    "h1_ts_2 = tanh(s1_ts_2)"
   ]
  },
  {
   "cell_type": "code",
   "execution_count": 30,
   "metadata": {},
   "outputs": [
    {
     "data": {
      "text/plain": [
       "array([[ 0.96994426,  0.99295015, -0.99593133],\n",
       "       [ 0.96995121,  0.99289436, -0.99591344],\n",
       "       [ 0.96997251,  0.99290582, -0.99592411],\n",
       "       [ 0.9699591 ,  0.99291043, -0.99592065]])"
      ]
     },
     "execution_count": 30,
     "metadata": {},
     "output_type": "execute_result"
    }
   ],
   "source": [
    "h1_ts_2"
   ]
  },
  {
   "cell_type": "code",
   "execution_count": null,
   "metadata": {},
   "outputs": [],
   "source": []
  },
  {
   "cell_type": "code",
   "execution_count": 31,
   "metadata": {},
   "outputs": [
    {
     "data": {
      "text/plain": [
       "array([[ 0.08125,  3.6247 , -1.4253 ],\n",
       "       [ 0.08075,  3.61751, -1.42149],\n",
       "       [ 0.08068,  3.61432, -1.42024],\n",
       "       [ 0.08104,  3.61513, -1.42155]])"
      ]
     },
     "execution_count": 31,
     "metadata": {},
     "output_type": "execute_result"
    }
   ],
   "source": [
    "x_ts_3.dot(ws)"
   ]
  },
  {
   "cell_type": "code",
   "execution_count": 32,
   "metadata": {},
   "outputs": [
    {
     "data": {
      "text/plain": [
       "array([[ 1.08822278,  0.57515873, -2.03385062],\n",
       "       [ 1.08819907,  0.57517226, -2.03377613],\n",
       "       [ 1.08821368,  0.57518786, -2.03380481],\n",
       "       [ 1.08820957,  0.57517656, -2.03380323]])"
      ]
     },
     "execution_count": 32,
     "metadata": {},
     "output_type": "execute_result"
    }
   ],
   "source": [
    "h1_ts_2.dot(us)"
   ]
  },
  {
   "cell_type": "code",
   "execution_count": 33,
   "metadata": {},
   "outputs": [
    {
     "data": {
      "text/plain": [
       "array([[ 1.06, -1.27,  0.23]])"
      ]
     },
     "execution_count": 33,
     "metadata": {},
     "output_type": "execute_result"
    }
   ],
   "source": [
    "bs"
   ]
  },
  {
   "cell_type": "code",
   "execution_count": 34,
   "metadata": {},
   "outputs": [
    {
     "data": {
      "text/plain": [
       "array([[ 1.16947278,  4.19985873, -3.45915062],\n",
       "       [ 1.16894907,  4.19268226, -3.45526613],\n",
       "       [ 1.16889368,  4.18950786, -3.45404481],\n",
       "       [ 1.16924957,  4.19030656, -3.45535323]])"
      ]
     },
     "execution_count": 34,
     "metadata": {},
     "output_type": "execute_result"
    }
   ],
   "source": [
    "x_ts_3.dot(ws) + h1_ts_2.dot(us)"
   ]
  },
  {
   "cell_type": "code",
   "execution_count": 35,
   "metadata": {},
   "outputs": [],
   "source": [
    "s1_ts_3 = x_ts_3.dot(ws) + h1_ts_2.dot(us) + bs"
   ]
  },
  {
   "cell_type": "code",
   "execution_count": 36,
   "metadata": {},
   "outputs": [
    {
     "data": {
      "text/plain": [
       "array([[ 2.22947278,  2.92985873, -3.22915062],\n",
       "       [ 2.22894907,  2.92268226, -3.22526613],\n",
       "       [ 2.22889368,  2.91950786, -3.22404481],\n",
       "       [ 2.22924957,  2.92030656, -3.22535323]])"
      ]
     },
     "execution_count": 36,
     "metadata": {},
     "output_type": "execute_result"
    }
   ],
   "source": [
    "s1_ts_3"
   ]
  },
  {
   "cell_type": "code",
   "execution_count": 37,
   "metadata": {},
   "outputs": [],
   "source": [
    "h1_ts_3 = tanh(s1_ts_3)"
   ]
  },
  {
   "cell_type": "code",
   "execution_count": 38,
   "metadata": {},
   "outputs": [
    {
     "data": {
      "text/plain": [
       "array([[ 0.97711575,  0.99431212, -0.99686999],\n",
       "       [ 0.97709204,  0.99423013, -0.99684562],\n",
       "       [ 0.97708954,  0.99419349, -0.99683792],\n",
       "       [ 0.97710565,  0.99420273, -0.99684617]])"
      ]
     },
     "execution_count": 38,
     "metadata": {},
     "output_type": "execute_result"
    }
   ],
   "source": [
    "h1_ts_3"
   ]
  },
  {
   "cell_type": "code",
   "execution_count": 39,
   "metadata": {},
   "outputs": [],
   "source": [
    "uy = np.array([[-0.7]\n",
    "              ,[-1.03]\n",
    "              ,[1.48]])"
   ]
  },
  {
   "cell_type": "code",
   "execution_count": 40,
   "metadata": {},
   "outputs": [
    {
     "data": {
      "text/plain": [
       "array([[-0.7 ],\n",
       "       [-1.03],\n",
       "       [ 1.48]])"
      ]
     },
     "execution_count": 40,
     "metadata": {},
     "output_type": "execute_result"
    }
   ],
   "source": [
    "uy"
   ]
  },
  {
   "cell_type": "code",
   "execution_count": 41,
   "metadata": {},
   "outputs": [],
   "source": [
    "by = np.array([[-0.95]])"
   ]
  },
  {
   "cell_type": "code",
   "execution_count": 42,
   "metadata": {},
   "outputs": [
    {
     "data": {
      "text/plain": [
       "array([[-0.95]])"
      ]
     },
     "execution_count": 42,
     "metadata": {},
     "output_type": "execute_result"
    }
   ],
   "source": [
    "by"
   ]
  },
  {
   "cell_type": "code",
   "execution_count": 43,
   "metadata": {},
   "outputs": [
    {
     "data": {
      "text/plain": [
       "array([[-3.1834901 ],\n",
       "       [-3.18335299],\n",
       "       [-3.18330209],\n",
       "       [-3.1833351 ]])"
      ]
     },
     "execution_count": 43,
     "metadata": {},
     "output_type": "execute_result"
    }
   ],
   "source": [
    "h1_ts_3.dot(uy)"
   ]
  },
  {
   "cell_type": "code",
   "execution_count": 44,
   "metadata": {},
   "outputs": [],
   "source": [
    "s2_ts_3 = h1_ts_3.dot(uy) + by"
   ]
  },
  {
   "cell_type": "code",
   "execution_count": 45,
   "metadata": {},
   "outputs": [
    {
     "data": {
      "text/plain": [
       "array([[-4.1334901 ],\n",
       "       [-4.13335299],\n",
       "       [-4.13330209],\n",
       "       [-4.1333351 ]])"
      ]
     },
     "execution_count": 45,
     "metadata": {},
     "output_type": "execute_result"
    }
   ],
   "source": [
    "s2_ts_3"
   ]
  },
  {
   "cell_type": "code",
   "execution_count": 53,
   "metadata": {},
   "outputs": [],
   "source": [
    "yhat = relu(s2_ts_3)"
   ]
  },
  {
   "cell_type": "code",
   "execution_count": 54,
   "metadata": {},
   "outputs": [
    {
     "data": {
      "text/plain": [
       "array([[0.],\n",
       "       [0.],\n",
       "       [0.],\n",
       "       [0.]])"
      ]
     },
     "execution_count": 54,
     "metadata": {},
     "output_type": "execute_result"
    }
   ],
   "source": [
    "yhat"
   ]
  },
  {
   "cell_type": "code",
   "execution_count": null,
   "metadata": {},
   "outputs": [],
   "source": []
  }
 ],
 "metadata": {
  "kernelspec": {
   "display_name": "Python 3",
   "language": "python",
   "name": "python3"
  },
  "language_info": {
   "codemirror_mode": {
    "name": "ipython",
    "version": 3
   },
   "file_extension": ".py",
   "mimetype": "text/x-python",
   "name": "python",
   "nbconvert_exporter": "python",
   "pygments_lexer": "ipython3",
   "version": "3.7.4"
  }
 },
 "nbformat": 4,
 "nbformat_minor": 2
}
