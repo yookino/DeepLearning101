{
 "cells": [
  {
   "cell_type": "code",
   "execution_count": 57,
   "metadata": {},
   "outputs": [],
   "source": [
    "import numpy as np"
   ]
  },
  {
   "cell_type": "code",
   "execution_count": 58,
   "metadata": {},
   "outputs": [],
   "source": [
    "X0 = np.array([[0.62,0.74,0.87],\n",
    "               [0.92,0.67,0.77],\n",
    "               [0.42,0.32,0.59],\n",
    "               [0.09,0.51,0.68],\n",
    "               [0.85,0.48,0.52]])"
   ]
  },
  {
   "cell_type": "code",
   "execution_count": 59,
   "metadata": {},
   "outputs": [
    {
     "data": {
      "text/plain": [
       "array([[0.62, 0.74, 0.87],\n",
       "       [0.92, 0.67, 0.77],\n",
       "       [0.42, 0.32, 0.59],\n",
       "       [0.09, 0.51, 0.68],\n",
       "       [0.85, 0.48, 0.52]])"
      ]
     },
     "execution_count": 59,
     "metadata": {},
     "output_type": "execute_result"
    }
   ],
   "source": [
    "X0"
   ]
  },
  {
   "cell_type": "code",
   "execution_count": 60,
   "metadata": {},
   "outputs": [],
   "source": [
    "W1 = np.array([[0.92,0.98,0.39,0.95],\n",
    "               [0.74,0.17,0.51,0.26],\n",
    "               [0.23,0.96,0.07,0.61]])"
   ]
  },
  {
   "cell_type": "code",
   "execution_count": 61,
   "metadata": {},
   "outputs": [],
   "source": [
    "B1 = np.array([0.18,0.00,0.93,0.14])"
   ]
  },
  {
   "cell_type": "code",
   "execution_count": 62,
   "metadata": {},
   "outputs": [],
   "source": [
    "Z1 = X0.dot(W1)"
   ]
  },
  {
   "cell_type": "code",
   "execution_count": 63,
   "metadata": {},
   "outputs": [
    {
     "data": {
      "text/plain": [
       "array([[1.3181, 1.5686, 0.6801, 1.3121],\n",
       "       [1.5193, 1.7547, 0.7544, 1.5179],\n",
       "       [0.7589, 1.0324, 0.3683, 0.8421],\n",
       "       [0.6166, 0.8277, 0.3428, 0.6329],\n",
       "       [1.2568, 1.4138, 0.6127, 1.2495]])"
      ]
     },
     "execution_count": 63,
     "metadata": {},
     "output_type": "execute_result"
    }
   ],
   "source": [
    "Z1"
   ]
  },
  {
   "cell_type": "code",
   "execution_count": 64,
   "metadata": {},
   "outputs": [],
   "source": [
    "Z1 = Z1 + B1"
   ]
  },
  {
   "cell_type": "code",
   "execution_count": 65,
   "metadata": {},
   "outputs": [
    {
     "data": {
      "text/plain": [
       "array([[1.4981, 1.5686, 1.6101, 1.4521],\n",
       "       [1.6993, 1.7547, 1.6844, 1.6579],\n",
       "       [0.9389, 1.0324, 1.2983, 0.9821],\n",
       "       [0.7966, 0.8277, 1.2728, 0.7729],\n",
       "       [1.4368, 1.4138, 1.5427, 1.3895]])"
      ]
     },
     "execution_count": 65,
     "metadata": {},
     "output_type": "execute_result"
    }
   ],
   "source": [
    "Z1"
   ]
  },
  {
   "cell_type": "code",
   "execution_count": 66,
   "metadata": {},
   "outputs": [
    {
     "data": {
      "text/plain": [
       "array([[4.24962743, 4.59158695, 4.80344391, 4.03799826],\n",
       "       [5.28730552, 5.60875385, 5.2036607 , 5.05773919],\n",
       "       [2.16610922, 2.4516453 , 3.39006867, 2.29553371],\n",
       "       [1.76712766, 1.85099681, 3.29079053, 1.70436639],\n",
       "       [3.96952404, 3.86833235, 4.46339863, 3.76364326]])"
      ]
     },
     "execution_count": 66,
     "metadata": {},
     "output_type": "execute_result"
    }
   ],
   "source": [
    "(np.exp(Z1) - np.exp(-Z1))"
   ]
  },
  {
   "cell_type": "code",
   "execution_count": 67,
   "metadata": {},
   "outputs": [
    {
     "data": {
      "text/plain": [
       "array([[4.69673646, 5.00826024, 5.20317916, 4.50615467],\n",
       "       [5.65292842, 5.95467209, 5.57477216, 5.43881657],\n",
       "       [2.94822475, 3.16394764, 3.93605965, 3.04458125],\n",
       "       [2.66884622, 2.72510352, 3.85088331, 2.62771094],\n",
       "       [4.44489832, 4.35476694, 4.89100474, 4.262043  ]])"
      ]
     },
     "execution_count": 67,
     "metadata": {},
     "output_type": "execute_result"
    }
   ],
   "source": [
    "(np.exp(Z1) +np.exp(-Z1))"
   ]
  },
  {
   "cell_type": "code",
   "execution_count": 68,
   "metadata": {},
   "outputs": [],
   "source": [
    "X1 = (np.exp(Z1) - np.exp(-Z1)) /  (np.exp(Z1) + np.exp(-Z1))"
   ]
  },
  {
   "cell_type": "code",
   "execution_count": 69,
   "metadata": {},
   "outputs": [
    {
     "data": {
      "text/plain": [
       "array([[0.90480432, 0.91680279, 0.92317481, 0.89610734],\n",
       "       [0.93532151, 0.9419081 , 0.9334302 , 0.92993377],\n",
       "       [0.73471645, 0.77486911, 0.86128488, 0.75397354],\n",
       "       [0.66213169, 0.67923908, 0.85455472, 0.64861259],\n",
       "       [0.89305171, 0.88829836, 0.91257295, 0.88306084]])"
      ]
     },
     "execution_count": 69,
     "metadata": {},
     "output_type": "execute_result"
    }
   ],
   "source": [
    "X1"
   ]
  },
  {
   "cell_type": "code",
   "execution_count": 70,
   "metadata": {},
   "outputs": [],
   "source": [
    "W2 = np.array([[-0.63,0.21],\n",
    "               [0.93,-0.83],\n",
    "               [0.67,-0.89],\n",
    "               [0.89,0.28]])"
   ]
  },
  {
   "cell_type": "code",
   "execution_count": 71,
   "metadata": {},
   "outputs": [],
   "source": [
    "B2 = np.array([[0.85,0.87]])"
   ]
  },
  {
   "cell_type": "code",
   "execution_count": 72,
   "metadata": {},
   "outputs": [],
   "source": [
    "Z2 = X1.dot(W2)"
   ]
  },
  {
   "cell_type": "code",
   "execution_count": 73,
   "metadata": {},
   "outputs": [
    {
     "data": {
      "text/plain": [
       "array([[ 1.69866252, -1.14165293],\n",
       "       [ 1.73976127, -1.15573763],\n",
       "       [ 1.50585423, -1.04428186],\n",
       "       [ 1.36436625, -1.00366296],\n",
       "       [ 1.66084292, -1.11467968]])"
      ]
     },
     "execution_count": 73,
     "metadata": {},
     "output_type": "execute_result"
    }
   ],
   "source": [
    "Z2"
   ]
  },
  {
   "cell_type": "code",
   "execution_count": 74,
   "metadata": {},
   "outputs": [],
   "source": [
    "Z2 = Z2 + B2"
   ]
  },
  {
   "cell_type": "code",
   "execution_count": 75,
   "metadata": {},
   "outputs": [
    {
     "data": {
      "text/plain": [
       "array([[ 2.54866252, -0.27165293],\n",
       "       [ 2.58976127, -0.28573763],\n",
       "       [ 2.35585423, -0.17428186],\n",
       "       [ 2.21436625, -0.13366296],\n",
       "       [ 2.51084292, -0.24467968]])"
      ]
     },
     "execution_count": 75,
     "metadata": {},
     "output_type": "execute_result"
    }
   ],
   "source": [
    "Z2"
   ]
  },
  {
   "cell_type": "code",
   "execution_count": 76,
   "metadata": {},
   "outputs": [
    {
     "data": {
      "text/plain": [
       "array([[ 2.54866252, -0.13582646],\n",
       "       [ 2.58976127, -0.14286881],\n",
       "       [ 2.35585423, -0.08714093],\n",
       "       [ 2.21436625, -0.06683148],\n",
       "       [ 2.51084292, -0.12233984]])"
      ]
     },
     "execution_count": 76,
     "metadata": {},
     "output_type": "execute_result"
    }
   ],
   "source": [
    "Z2[Z2 > 0] = Z2[Z2 >0]\n",
    "Z2[Z2 < 0] *= 0.5\n",
    "Z2"
   ]
  },
  {
   "cell_type": "code",
   "execution_count": 77,
   "metadata": {},
   "outputs": [],
   "source": [
    "X2 = Z2"
   ]
  },
  {
   "cell_type": "code",
   "execution_count": 78,
   "metadata": {},
   "outputs": [
    {
     "data": {
      "text/plain": [
       "array([[ 2.54866252, -0.13582646],\n",
       "       [ 2.58976127, -0.14286881],\n",
       "       [ 2.35585423, -0.08714093],\n",
       "       [ 2.21436625, -0.06683148],\n",
       "       [ 2.51084292, -0.12233984]])"
      ]
     },
     "execution_count": 78,
     "metadata": {},
     "output_type": "execute_result"
    }
   ],
   "source": [
    "X2"
   ]
  },
  {
   "cell_type": "code",
   "execution_count": 79,
   "metadata": {},
   "outputs": [],
   "source": [
    "W3 = np.array([[0.51,0.26,0.34],\n",
    "               [0.48,0.17,0.87]])"
   ]
  },
  {
   "cell_type": "code",
   "execution_count": 80,
   "metadata": {},
   "outputs": [],
   "source": [
    "B3 = np.array([[0.54,0.69,0.82]])"
   ]
  },
  {
   "cell_type": "code",
   "execution_count": 81,
   "metadata": {},
   "outputs": [
    {
     "data": {
      "text/plain": [
       "array([[1.23462118, 0.63956176, 0.74837623],\n",
       "       [1.25220122, 0.64905023, 0.75622296],\n",
       "       [1.15965801, 0.59770814, 0.72517783],\n",
       "       [1.09724768, 0.56437387, 0.69474114],\n",
       "       [1.22180677, 0.63202139, 0.74725093]])"
      ]
     },
     "execution_count": 81,
     "metadata": {},
     "output_type": "execute_result"
    }
   ],
   "source": [
    "Z3 = X2.dot(W3)\n",
    "Z3"
   ]
  },
  {
   "cell_type": "code",
   "execution_count": 82,
   "metadata": {},
   "outputs": [],
   "source": [
    "Z3 = Z3 + B3"
   ]
  },
  {
   "cell_type": "code",
   "execution_count": 83,
   "metadata": {},
   "outputs": [
    {
     "data": {
      "text/plain": [
       "array([[1.77462118, 1.32956176, 1.56837623],\n",
       "       [1.79220122, 1.33905023, 1.57622296],\n",
       "       [1.69965801, 1.28770814, 1.54517783],\n",
       "       [1.63724768, 1.25437387, 1.51474114],\n",
       "       [1.76180677, 1.32202139, 1.56725093]])"
      ]
     },
     "execution_count": 83,
     "metadata": {},
     "output_type": "execute_result"
    }
   ],
   "source": [
    "Z3"
   ]
  },
  {
   "cell_type": "code",
   "execution_count": 84,
   "metadata": {},
   "outputs": [
    {
     "data": {
      "text/plain": [
       "array([[0.16954767, 0.26459319, 0.20838327],\n",
       "       [0.16659306, 0.26209448, 0.20675454],\n",
       "       [0.18274601, 0.27590239, 0.21327394],\n",
       "       [0.19451467, 0.2852544 , 0.21986509],\n",
       "       [0.1717343 , 0.26659586, 0.2086179 ]])"
      ]
     },
     "execution_count": 84,
     "metadata": {},
     "output_type": "execute_result"
    }
   ],
   "source": [
    "np.exp(-Z3)"
   ]
  },
  {
   "cell_type": "code",
   "execution_count": 85,
   "metadata": {},
   "outputs": [
    {
     "data": {
      "text/plain": [
       "array([[0.85503142, 0.79076813, 0.827552  ],\n",
       "       [0.85719694, 0.79233371, 0.82866893],\n",
       "       [0.84549006, 0.78375902, 0.82421617],\n",
       "       [0.83716008, 0.77805608, 0.81976278],\n",
       "       [0.8534358 , 0.78951782, 0.82739135]])"
      ]
     },
     "execution_count": 85,
     "metadata": {},
     "output_type": "execute_result"
    }
   ],
   "source": [
    "X3 = 1 / (1 + np.exp(-Z3))\n",
    "X3"
   ]
  },
  {
   "cell_type": "code",
   "execution_count": 86,
   "metadata": {},
   "outputs": [],
   "source": [
    "W4 = np.array([[0.85],[0.19],[0.12]])"
   ]
  },
  {
   "cell_type": "code",
   "execution_count": 87,
   "metadata": {},
   "outputs": [],
   "source": [
    "B4 = np.array([[0.66]])"
   ]
  },
  {
   "cell_type": "code",
   "execution_count": 88,
   "metadata": {},
   "outputs": [
    {
     "data": {
      "text/plain": [
       "array([[0.97632889],\n",
       "       [0.97860108],\n",
       "       [0.96648671],\n",
       "       [0.95778826],\n",
       "       [0.97471578]])"
      ]
     },
     "execution_count": 88,
     "metadata": {},
     "output_type": "execute_result"
    }
   ],
   "source": [
    "Z4 = X3.dot(W4)\n",
    "Z4"
   ]
  },
  {
   "cell_type": "code",
   "execution_count": 89,
   "metadata": {},
   "outputs": [
    {
     "data": {
      "text/plain": [
       "array([[1.63632889],\n",
       "       [1.63860108],\n",
       "       [1.62648671],\n",
       "       [1.61778826],\n",
       "       [1.63471578]])"
      ]
     },
     "execution_count": 89,
     "metadata": {},
     "output_type": "execute_result"
    }
   ],
   "source": [
    "Z4 = Z4 + B4\n",
    "Z4"
   ]
  },
  {
   "cell_type": "code",
   "execution_count": 90,
   "metadata": {},
   "outputs": [],
   "source": [
    "X4 = Z4\n",
    "X4[X4 <= 0] = 0"
   ]
  },
  {
   "cell_type": "code",
   "execution_count": 91,
   "metadata": {},
   "outputs": [
    {
     "data": {
      "text/plain": [
       "array([[1.63632889],\n",
       "       [1.63860108],\n",
       "       [1.62648671],\n",
       "       [1.61778826],\n",
       "       [1.63471578]])"
      ]
     },
     "execution_count": 91,
     "metadata": {},
     "output_type": "execute_result"
    }
   ],
   "source": [
    "X4"
   ]
  },
  {
   "cell_type": "code",
   "execution_count": null,
   "metadata": {},
   "outputs": [],
   "source": []
  }
 ],
 "metadata": {
  "kernelspec": {
   "display_name": "Python 3",
   "language": "python",
   "name": "python3"
  },
  "language_info": {
   "codemirror_mode": {
    "name": "ipython",
    "version": 3
   },
   "file_extension": ".py",
   "mimetype": "text/x-python",
   "name": "python",
   "nbconvert_exporter": "python",
   "pygments_lexer": "ipython3",
   "version": "3.7.4"
  }
 },
 "nbformat": 4,
 "nbformat_minor": 2
}
