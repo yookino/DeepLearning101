{
 "cells": [
  {
   "cell_type": "code",
   "execution_count": 1,
   "metadata": {},
   "outputs": [],
   "source": [
    "import numpy as np"
   ]
  },
  {
   "cell_type": "code",
   "execution_count": 3,
   "metadata": {},
   "outputs": [
    {
     "data": {
      "text/plain": [
       "array([[-3, -2,  0],\n",
       "       [-2, -1,  0],\n",
       "       [-2, -2,  0],\n",
       "       [-2, -3,  0],\n",
       "       [-1, -2,  0],\n",
       "       [ 1,  2,  1],\n",
       "       [ 2,  1,  1],\n",
       "       [ 2,  2,  1],\n",
       "       [ 2,  2,  1],\n",
       "       [ 2,  3,  1],\n",
       "       [ 3,  2,  1]])"
      ]
     },
     "execution_count": 3,
     "metadata": {},
     "output_type": "execute_result"
    }
   ],
   "source": [
    "ds = np.array([[-3,-2,0]\n",
    "              ,[-2,-1,0]\n",
    "              ,[-2,-2,0]\n",
    "              ,[-2,-3,0]\n",
    "              ,[-1,-2,0]\n",
    "              ,[1,2,1]\n",
    "              ,[2,1,1]\n",
    "              ,[2,2,1]\n",
    "              ,[2,2,1]\n",
    "              ,[2,3,1]\n",
    "              ,[3,2,1]])\n",
    "ds"
   ]
  },
  {
   "cell_type": "code",
   "execution_count": 4,
   "metadata": {},
   "outputs": [
    {
     "data": {
      "text/plain": [
       "array([[-3, -2],\n",
       "       [-2, -1],\n",
       "       [-2, -2],\n",
       "       [-2, -3],\n",
       "       [-1, -2],\n",
       "       [ 1,  2],\n",
       "       [ 2,  1],\n",
       "       [ 2,  2],\n",
       "       [ 2,  2],\n",
       "       [ 2,  3],\n",
       "       [ 3,  2]])"
      ]
     },
     "execution_count": 4,
     "metadata": {},
     "output_type": "execute_result"
    }
   ],
   "source": [
    "X = ds[:, :-1]\n",
    "X"
   ]
  },
  {
   "cell_type": "code",
   "execution_count": 6,
   "metadata": {},
   "outputs": [
    {
     "data": {
      "text/plain": [
       "array([[ 1., -3., -2.],\n",
       "       [ 1., -2., -1.],\n",
       "       [ 1., -2., -2.],\n",
       "       [ 1., -2., -3.],\n",
       "       [ 1., -1., -2.],\n",
       "       [ 1.,  1.,  2.],\n",
       "       [ 1.,  2.,  1.],\n",
       "       [ 1.,  2.,  2.],\n",
       "       [ 1.,  2.,  2.],\n",
       "       [ 1.,  2.,  3.],\n",
       "       [ 1.,  3.,  2.]])"
      ]
     },
     "execution_count": 6,
     "metadata": {},
     "output_type": "execute_result"
    }
   ],
   "source": [
    "Xb = np.hstack([np.ones([X.shape[0],1]), X])\n",
    "Xb"
   ]
  },
  {
   "cell_type": "code",
   "execution_count": 23,
   "metadata": {},
   "outputs": [
    {
     "data": {
      "text/plain": [
       "array([[ 1.,  1.,  1.,  1.,  1.,  1.,  1.,  1.,  1.,  1.,  1.],\n",
       "       [-3., -2., -2., -2., -1.,  1.,  2.,  2.,  2.,  2.,  3.],\n",
       "       [-2., -1., -2., -3., -2.,  2.,  1.,  2.,  2.,  3.,  2.]])"
      ]
     },
     "execution_count": 23,
     "metadata": {},
     "output_type": "execute_result"
    }
   ],
   "source": [
    "Xb.T"
   ]
  },
  {
   "cell_type": "code",
   "execution_count": 8,
   "metadata": {},
   "outputs": [
    {
     "data": {
      "text/plain": [
       "array([[0],\n",
       "       [0],\n",
       "       [0],\n",
       "       [0],\n",
       "       [0],\n",
       "       [1],\n",
       "       [1],\n",
       "       [1],\n",
       "       [1],\n",
       "       [1],\n",
       "       [1]])"
      ]
     },
     "execution_count": 8,
     "metadata": {},
     "output_type": "execute_result"
    }
   ],
   "source": [
    "Y = ds[:, -1:]\n",
    "Y"
   ]
  },
  {
   "cell_type": "code",
   "execution_count": 9,
   "metadata": {},
   "outputs": [
    {
     "data": {
      "text/plain": [
       "array([[0.1],\n",
       "       [0.2],\n",
       "       [0.3]])"
      ]
     },
     "execution_count": 9,
     "metadata": {},
     "output_type": "execute_result"
    }
   ],
   "source": [
    "W = np.array([[0.1]\n",
    "             ,[0.2]\n",
    "             ,[0.3]])\n",
    "W"
   ]
  },
  {
   "cell_type": "code",
   "execution_count": 10,
   "metadata": {},
   "outputs": [
    {
     "data": {
      "text/plain": [
       "5"
      ]
     },
     "execution_count": 10,
     "metadata": {},
     "output_type": "execute_result"
    }
   ],
   "source": [
    "a = 5\n",
    "a"
   ]
  },
  {
   "cell_type": "code",
   "execution_count": 11,
   "metadata": {},
   "outputs": [
    {
     "data": {
      "text/plain": [
       "array([[-1.1],\n",
       "       [-0.6],\n",
       "       [-0.9],\n",
       "       [-1.2],\n",
       "       [-0.7],\n",
       "       [ 0.9],\n",
       "       [ 0.8],\n",
       "       [ 1.1],\n",
       "       [ 1.1],\n",
       "       [ 1.4],\n",
       "       [ 1.3]])"
      ]
     },
     "execution_count": 11,
     "metadata": {},
     "output_type": "execute_result"
    }
   ],
   "source": [
    "Z = Xb.dot(W)\n",
    "Z"
   ]
  },
  {
   "cell_type": "code",
   "execution_count": 19,
   "metadata": {},
   "outputs": [
    {
     "data": {
      "text/plain": [
       "array([[0.24973989],\n",
       "       [0.35434369],\n",
       "       [0.2890505 ],\n",
       "       [0.23147522],\n",
       "       [0.33181223],\n",
       "       [0.7109495 ],\n",
       "       [0.68997448],\n",
       "       [0.75026011],\n",
       "       [0.75026011],\n",
       "       [0.80218389],\n",
       "       [0.78583498]])"
      ]
     },
     "execution_count": 19,
     "metadata": {},
     "output_type": "execute_result"
    }
   ],
   "source": [
    "Yhat = 1/(1 + np.exp(-Z))\n",
    "Yhat"
   ]
  },
  {
   "cell_type": "code",
   "execution_count": 24,
   "metadata": {},
   "outputs": [
    {
     "data": {
      "text/plain": [
       "array([[-0.24973989],\n",
       "       [-0.35434369],\n",
       "       [-0.2890505 ],\n",
       "       [-0.23147522],\n",
       "       [-0.33181223],\n",
       "       [ 0.2890505 ],\n",
       "       [ 0.31002552],\n",
       "       [ 0.24973989],\n",
       "       [ 0.24973989],\n",
       "       [ 0.19781611],\n",
       "       [ 0.21416502]])"
      ]
     },
     "execution_count": 24,
     "metadata": {},
     "output_type": "execute_result"
    }
   ],
   "source": [
    "YY = Y - Yhat\n",
    "YY"
   ]
  },
  {
   "cell_type": "code",
   "execution_count": 25,
   "metadata": {},
   "outputs": [
    {
     "data": {
      "text/plain": [
       "array([[ 1., -3., -2.],\n",
       "       [ 1., -2., -1.],\n",
       "       [ 1., -2., -2.],\n",
       "       [ 1., -2., -3.],\n",
       "       [ 1., -1., -2.],\n",
       "       [ 1.,  1.,  2.],\n",
       "       [ 1.,  2.,  1.],\n",
       "       [ 1.,  2.,  2.],\n",
       "       [ 1.,  2.,  2.],\n",
       "       [ 1.,  2.,  3.],\n",
       "       [ 1.,  3.,  2.]])"
      ]
     },
     "execution_count": 25,
     "metadata": {},
     "output_type": "execute_result"
    }
   ],
   "source": [
    "Xb"
   ]
  },
  {
   "cell_type": "code",
   "execution_count": 22,
   "metadata": {},
   "outputs": [
    {
     "data": {
      "text/plain": [
       "array([[0.0541154 ],\n",
       "       [5.77695911],\n",
       "       [5.69883904]])"
      ]
     },
     "execution_count": 22,
     "metadata": {},
     "output_type": "execute_result"
    }
   ],
   "source": [
    "S = np.dot(Xb.T, (YY))\n",
    "S"
   ]
  },
  {
   "cell_type": "code",
   "execution_count": 18,
   "metadata": {},
   "outputs": [
    {
     "data": {
      "text/plain": [
       "array([[0.1541154 ],\n",
       "       [5.97695911],\n",
       "       [5.99883904]])"
      ]
     },
     "execution_count": 18,
     "metadata": {},
     "output_type": "execute_result"
    }
   ],
   "source": [
    "W = W + ((a/10) * S)\n",
    "W"
   ]
  },
  {
   "cell_type": "code",
   "execution_count": null,
   "metadata": {},
   "outputs": [],
   "source": []
  }
 ],
 "metadata": {
  "kernelspec": {
   "display_name": "Python 3",
   "language": "python",
   "name": "python3"
  },
  "language_info": {
   "codemirror_mode": {
    "name": "ipython",
    "version": 3
   },
   "file_extension": ".py",
   "mimetype": "text/x-python",
   "name": "python",
   "nbconvert_exporter": "python",
   "pygments_lexer": "ipython3",
   "version": "3.7.4"
  }
 },
 "nbformat": 4,
 "nbformat_minor": 2
}
