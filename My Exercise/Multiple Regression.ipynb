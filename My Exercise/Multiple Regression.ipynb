{
 "cells": [
  {
   "cell_type": "code",
   "execution_count": 18,
   "metadata": {},
   "outputs": [],
   "source": [
    "import numpy as np\n",
    "import pandas as pd"
   ]
  },
  {
   "cell_type": "code",
   "execution_count": 5,
   "metadata": {},
   "outputs": [],
   "source": [
    "ds = np.array([[0,0,1]\n",
    "         ,[1,0,3]\n",
    "         ,[2,2,11]\n",
    "         ,[0,1,4]\n",
    "         ,[1,1,6]\n",
    "         ,[2,3,14]\n",
    "         ,[0,2,7]\n",
    "         ,[1,2,9]\n",
    "         ,[2,0,5]\n",
    "         ,[2,1,8]])"
   ]
  },
  {
   "cell_type": "code",
   "execution_count": 7,
   "metadata": {},
   "outputs": [
    {
     "data": {
      "text/plain": [
       "array([[ 0,  0,  1],\n",
       "       [ 1,  0,  3],\n",
       "       [ 2,  2, 11],\n",
       "       [ 0,  1,  4],\n",
       "       [ 1,  1,  6],\n",
       "       [ 2,  3, 14],\n",
       "       [ 0,  2,  7],\n",
       "       [ 1,  2,  9],\n",
       "       [ 2,  0,  5],\n",
       "       [ 2,  1,  8]])"
      ]
     },
     "execution_count": 7,
     "metadata": {},
     "output_type": "execute_result"
    }
   ],
   "source": [
    "ds"
   ]
  },
  {
   "cell_type": "code",
   "execution_count": 9,
   "metadata": {},
   "outputs": [],
   "source": [
    "ds_feature = ds[:,:-1]"
   ]
  },
  {
   "cell_type": "code",
   "execution_count": 11,
   "metadata": {},
   "outputs": [
    {
     "data": {
      "text/plain": [
       "array([[0, 0],\n",
       "       [1, 0],\n",
       "       [2, 2],\n",
       "       [0, 1],\n",
       "       [1, 1],\n",
       "       [2, 3],\n",
       "       [0, 2],\n",
       "       [1, 2],\n",
       "       [2, 0],\n",
       "       [2, 1]])"
      ]
     },
     "execution_count": 11,
     "metadata": {},
     "output_type": "execute_result"
    }
   ],
   "source": [
    "ds_feature"
   ]
  },
  {
   "cell_type": "code",
   "execution_count": 16,
   "metadata": {},
   "outputs": [],
   "source": [
    "ds_target = ds[:,-1:]"
   ]
  },
  {
   "cell_type": "code",
   "execution_count": 17,
   "metadata": {},
   "outputs": [
    {
     "data": {
      "text/plain": [
       "array([[ 1],\n",
       "       [ 3],\n",
       "       [11],\n",
       "       [ 4],\n",
       "       [ 6],\n",
       "       [14],\n",
       "       [ 7],\n",
       "       [ 9],\n",
       "       [ 5],\n",
       "       [ 8]])"
      ]
     },
     "execution_count": 17,
     "metadata": {},
     "output_type": "execute_result"
    }
   ],
   "source": [
    "ds_target"
   ]
  },
  {
   "cell_type": "code",
   "execution_count": 74,
   "metadata": {},
   "outputs": [
    {
     "data": {
      "text/plain": [
       "array([[1.],\n",
       "       [1.],\n",
       "       [1.],\n",
       "       [1.],\n",
       "       [1.],\n",
       "       [1.],\n",
       "       [1.],\n",
       "       [1.],\n",
       "       [1.],\n",
       "       [1.]])"
      ]
     },
     "execution_count": 74,
     "metadata": {},
     "output_type": "execute_result"
    }
   ],
   "source": [
    "np.ones([ds_feature.shape[0],1])"
   ]
  },
  {
   "cell_type": "code",
   "execution_count": 75,
   "metadata": {},
   "outputs": [
    {
     "data": {
      "text/plain": [
       "array([[0., 0., 1.],\n",
       "       [1., 0., 1.],\n",
       "       [2., 2., 1.],\n",
       "       [0., 1., 1.],\n",
       "       [1., 1., 1.],\n",
       "       [2., 3., 1.],\n",
       "       [0., 2., 1.],\n",
       "       [1., 2., 1.],\n",
       "       [2., 0., 1.],\n",
       "       [2., 1., 1.]])"
      ]
     },
     "execution_count": 75,
     "metadata": {},
     "output_type": "execute_result"
    }
   ],
   "source": [
    "np.hstack([ds_feature, np.ones([ds_feature.shape[0],1])])"
   ]
  },
  {
   "cell_type": "code",
   "execution_count": 73,
   "metadata": {},
   "outputs": [],
   "source": [
    "ds_feature_b = np.hstack([np.ones([ds_feature.shape[0],1]), ds_feature])"
   ]
  },
  {
   "cell_type": "code",
   "execution_count": 61,
   "metadata": {},
   "outputs": [
    {
     "data": {
      "text/plain": [
       "array([[1., 0., 0.],\n",
       "       [1., 1., 0.],\n",
       "       [1., 2., 2.],\n",
       "       [1., 0., 1.],\n",
       "       [1., 1., 1.],\n",
       "       [1., 2., 3.],\n",
       "       [1., 0., 2.],\n",
       "       [1., 1., 2.],\n",
       "       [1., 2., 0.],\n",
       "       [1., 2., 1.]])"
      ]
     },
     "execution_count": 61,
     "metadata": {},
     "output_type": "execute_result"
    }
   ],
   "source": [
    "ds_feature_b"
   ]
  },
  {
   "cell_type": "code",
   "execution_count": 63,
   "metadata": {},
   "outputs": [],
   "source": [
    "w = np.array([[0.1]\n",
    "             ,[0.2]\n",
    "             ,[0.3]])"
   ]
  },
  {
   "cell_type": "code",
   "execution_count": 70,
   "metadata": {},
   "outputs": [],
   "source": [
    "XbTXb = (ds_feature_b.T).dot(ds_feature_b)"
   ]
  },
  {
   "cell_type": "code",
   "execution_count": 71,
   "metadata": {},
   "outputs": [
    {
     "data": {
      "text/plain": [
       "array([[10., 11., 12.],\n",
       "       [11., 19., 15.],\n",
       "       [12., 15., 24.]])"
      ]
     },
     "execution_count": 71,
     "metadata": {},
     "output_type": "execute_result"
    }
   ],
   "source": [
    "XbTXb"
   ]
  },
  {
   "cell_type": "code",
   "execution_count": 77,
   "metadata": {},
   "outputs": [],
   "source": [
    "XbTXb_1 =np.linalg.inv(XbTXb)"
   ]
  },
  {
   "cell_type": "code",
   "execution_count": 78,
   "metadata": {},
   "outputs": [
    {
     "data": {
      "text/plain": [
       "array([[ 0.36666667, -0.13333333, -0.1       ],\n",
       "       [-0.13333333,  0.15238095, -0.02857143],\n",
       "       [-0.1       , -0.02857143,  0.10952381]])"
      ]
     },
     "execution_count": 78,
     "metadata": {},
     "output_type": "execute_result"
    }
   ],
   "source": [
    "XbTXb_1"
   ]
  },
  {
   "cell_type": "code",
   "execution_count": 81,
   "metadata": {},
   "outputs": [
    {
     "data": {
      "text/plain": [
       "array([[ 1.00000000e+00, -1.52655666e-16,  2.22044605e-16],\n",
       "       [-4.99600361e-16,  1.00000000e+00,  5.55111512e-17],\n",
       "       [-4.44089210e-16,  1.38777878e-16,  1.00000000e+00]])"
      ]
     },
     "execution_count": 81,
     "metadata": {},
     "output_type": "execute_result"
    }
   ],
   "source": [
    "XbTXb_XbTXb_1 = np.dot(XbTXb,XbTXb_1)\n",
    "XbTXb_XbTXb_1"
   ]
  }
 ],
 "metadata": {
  "kernelspec": {
   "display_name": "Python 3",
   "language": "python",
   "name": "python3"
  },
  "language_info": {
   "codemirror_mode": {
    "name": "ipython",
    "version": 3
   },
   "file_extension": ".py",
   "mimetype": "text/x-python",
   "name": "python",
   "nbconvert_exporter": "python",
   "pygments_lexer": "ipython3",
   "version": "3.7.4"
  }
 },
 "nbformat": 4,
 "nbformat_minor": 2
}
